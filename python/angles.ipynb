{
 "cells": [
  {
   "cell_type": "markdown",
   "metadata": {},
   "source": [
    "Process model for constant velocity model from euler angles.\n",
    "\n",
    "Using euler angle convention of zyx, (yaw, pitch, roll)"
   ]
  },
  {
   "cell_type": "code",
   "execution_count": 5,
   "metadata": {},
   "outputs": [],
   "source": [
    "import numpy as np\n",
    "import sympy\n",
    "import symforce.symbolic as sf"
   ]
  },
  {
   "cell_type": "markdown",
   "metadata": {},
   "source": []
  },
  {
   "cell_type": "code",
   "execution_count": 6,
   "metadata": {},
   "outputs": [],
   "source": [
    "def R_z(angle : float) -> np.array:\n",
    "    R_z = np.array([[np.cos(angle), -np.sin(angle), 0],\n",
    "                    [np.sin(angle),  np.cos(angle), 0],\n",
    "                    [0, 0, 1]])\n",
    "    return R_z\n",
    "\n",
    "def R_y(angle: float)-> np.array :\n",
    "    R_y = np.array([[np.cos(angle), 0, np.sin(angle)],\n",
    "                    [0, 1, 0],\n",
    "                    [-np.sin(angle), 0, np.cos(angle)]])\n",
    "    return R_y\n",
    "\n",
    "def R_x(angle: float) -> np.array:\n",
    "    R_x = np.array([[1, 0 , 0],\n",
    "                    [0, np.cos(angle), -np.sin(angle)],\n",
    "                    [0, np.sin(angle), np.cos(angle)]])\n",
    "    return R_x\n",
    "\n",
    "def euler_angle_to_rot(yaw: float, pitch: float, roll: float):\n",
    "    \n",
    "    return R_z(yaw) @ R_y(pitch) @ R_x(roll)\n",
    "\n",
    "# http://www.stengel.mycpanel.princeton.edu/Quaternions.pdf\n",
    "def euler_angle_rates_to_ang_vel(yaw_rate:float, pitch_rate:float, roll_rate:float, yaw:float, pitch:float, roll:float) -> np.array:\n",
    "    \"\"\"\n",
    "    converts euler angles rates to body axis rates. \n",
    "    \"\"\"\n",
    "    euler_angle_rate_vec = np.array([roll_rate, pitch_rate, yaw_rate]).reshape(3, -1)\n",
    "    psi = yaw\n",
    "    theta = pitch\n",
    "    phi = roll\n",
    "    rate_matrix = np.array([\n",
    "        [1, 0, -np.sin(theta)],\n",
    "        [0, np.cos(phi), np.cos(theta)*np.sin(phi)],\n",
    "        [0, -np.sin(phi), np.cos(phi)*np.cos(theta)]\n",
    "    ])\n",
    "    \n",
    "    ang_vel = rate_matrix @ euler_angle_rate_vec\n",
    "    \n",
    "    return ang_vel\n",
    "\n",
    "\n",
    "def ang_vel_to_euler_angle_rates(omega : np.array, yaw: float, pitch:float, roll:float):\n",
    "    \"\"\"\n",
    "    omega - body axis rates\n",
    "    \n",
    "    \"\"\"\n",
    "    psi = yaw\n",
    "    theta = pitch\n",
    "    phi = roll\n",
    "    omega = omega.reshape(3, -1)\n",
    "    rate_matrix = np.array([\n",
    "        [1, np.sin(phi)*np.tan(theta), np.cos(phi)*np.tan(theta)],\n",
    "        [0, np.cos(phi), -np.sin(phi)],\n",
    "        [0, np.sin(phi)*np.sec(theta), np.cos(phi)*np.sec(theta)]\n",
    "    ])\n",
    "    euler_angle_rates = rate_matrix @ omega\n",
    "    \n",
    "    return euler_angle_rates\n",
    "\n",
    "def orientation_error_propagation(yaw:float, pitch:float, roll:float, body_omega:np.array):\n",
    "    wx, wy, wz = body_omega\n",
    "    qx = roll\n",
    "    qy = pitch\n",
    "    qz = yaw\n",
    "    cx = np.cos(qx)\n",
    "    sx = np.sin(qx)\n",
    "    ty = np.tan(qy)\n",
    "    sy = np.sin(qy)\n",
    "    cy = np.cos(qy)\n",
    "    \n",
    "    \n",
    "    A = np.array([\n",
    "        [0, (wz*cx + wy*sx)/cy**2, ty*(wy*cx - wz*sx)],\n",
    "        [0, 0, wz*cx + wy*sx],\n",
    "        [0, (sy*(wz*cx + wy*sx))/cy**2, (wy * cx - wz*sx)/cy]\n",
    "    ])\n",
    "    \n",
    "    return A@body_omega.reshape(3, -1)"
   ]
  },
  {
   "cell_type": "markdown",
   "metadata": {},
   "source": [
    "Alternatives to euler angles  is rotation matrix (or direction cosines) and quaternions to avoid singularities.\n"
   ]
  },
  {
   "cell_type": "markdown",
   "metadata": {},
   "source": [
    "Rotation Matrices"
   ]
  },
  {
   "cell_type": "code",
   "execution_count": 7,
   "metadata": {},
   "outputs": [],
   "source": [
    "def skew(vec: np.array):\n",
    "    M = np.array([\n",
    "        [0, -vec[2], vec[1]],\n",
    "        [vec[2], 0, -vec[0]],\n",
    "        [-vec[1], vec[0], 0],\n",
    "    ])\n",
    "    \n",
    "    return M\n",
    "    \n",
    "def vee(vec: np.array):\n",
    "    M = np.array([\n",
    "        [0, -vec[2], vec[1]],\n",
    "        [vec[2], 0, -vec[0]],\n",
    "        [-vec[1], vec[0], 0],\n",
    "    ])\n",
    "    return M\n",
    "\n",
    "\n",
    "def angular_vel_to_rotation_rates(R_curr: np.array, omega: np.array):\n",
    "    \"\"\"\n",
    "    angular error \n",
    "    \"\"\"\n",
    "    R_dot = R_curr@skew(omega)\n",
    "    \n",
    "    return R_dot\n",
    "\n",
    "def angle_axis_to_rotation_matrix(axis : np.array, rotation_angle: float):\n",
    "    delta = rotation_angle\n",
    "    a = axis.reshape(3, -1)\n",
    "    \n",
    "    R = np.cos(delta)*np.eye(3) + (1 - np.cos(delta)) * a @ a.T - np.sin(delta)*skew(a)\n",
    "    return R\n",
    "\n",
    "\n",
    "def quaternion_to_rotation_matrix(q : np.array):\n",
    "    q3 = q[0:3].reshape(3, -1)\n",
    "    q4 = q[3]\n",
    "    \n",
    "    R = (q4**2 - np.dot(q3,q3))* np.eye(3) + 2*q3@q3.T - 2*q4*skew(q3)\n"
   ]
  },
  {
   "cell_type": "markdown",
   "metadata": {},
   "source": [
    "Quaternions"
   ]
  },
  {
   "cell_type": "code",
   "execution_count": 8,
   "metadata": {},
   "outputs": [
    {
     "name": "stderr",
     "output_type": "stream",
     "text": [
      "<>:24: SyntaxWarning: 'int' object is not callable; perhaps you missed a comma?\n",
      "<>:24: SyntaxWarning: 'int' object is not callable; perhaps you missed a comma?\n",
      "/tmp/ipykernel_1187411/3918344096.py:24: SyntaxWarning: 'int' object is not callable; perhaps you missed a comma?\n",
      "  yaw = np.atan2(2*(q3*q4 + q1*q2), 1 - 2(q2**2 + q3**2))\n"
     ]
    }
   ],
   "source": [
    "\n",
    "def is_quaternion(q: np.array):\n",
    "    return (np.dot(q, q) == 1)\n",
    "\n",
    "\n",
    "def angle_axis_to_quaternion(axis: np.array, rotation_angle:float):\n",
    "    s = np.sin(rotation_angle/2)\n",
    "    c = np.cos(rotation_angle/2)\n",
    "    q = np.array(s*axis[0], s*axis[1], s*axis[2], c)\n",
    "    return q\n",
    "\n",
    "def rot_mat_to_quaternion(R: np.array):\n",
    "    \n",
    "    q4 = 0.5*np.sqrt(1 + R[0,0] + R[1, 1]  + R[2, 2])\n",
    "    q1 = 0.25*(R[1, 2] - R[2, 1])/q4\n",
    "    q2 = 0.25*(R[2, 0] - R[0, 2])/q4\n",
    "    q3 = 0.25*(R[0, 1] - R[1, 0])/q4\n",
    "    \n",
    "    return np.array([q1, q2, q3, q4])    \n",
    "\n",
    "def quaternion_to_euler_angle(q:np.array):\n",
    "    q1, q2, q3, q4 = q\n",
    "    roll = np.atan2(2*(q1*q4 + q2*q3), 1 - 2*(q1**2 + q2**22))\n",
    "    pitch = np.asin(2*(q2*q4 - q1*q3))\n",
    "    yaw = np.atan2(2*(q3*q4 + q1*q2), 1 - 2(q2**2 + q3**2))\n",
    "    \n",
    "    return roll, pitch, yaw\n",
    "\n",
    "def angular_vel_to_quaternion_rates(ang_vel: np.array, q: np.array):\n",
    "    \n",
    "    q3 = q[0:3].reshape(3, -1)\n",
    "    q4 = q[3]\n",
    "    \n",
    "    wx, wy, wz = ang_vel\n",
    "    A = np.array([\n",
    "        [0, wz, -wy, wx],\n",
    "        [-wz, 0, wx, wy],\n",
    "        [wy, -wx, 0, wz],\n",
    "        [-wx, -wy, -wz, 0]\n",
    "    ])\n",
    "    \n",
    "    q_dot = A @ q.reshape(4, -1)\n",
    "    return q_dot\n",
    "\n"
   ]
  }
 ],
 "metadata": {
  "kernelspec": {
   "display_name": "Python 3",
   "language": "python",
   "name": "python3"
  },
  "language_info": {
   "codemirror_mode": {
    "name": "ipython",
    "version": 3
   },
   "file_extension": ".py",
   "mimetype": "text/x-python",
   "name": "python",
   "nbconvert_exporter": "python",
   "pygments_lexer": "ipython3",
   "version": "3.8.10"
  }
 },
 "nbformat": 4,
 "nbformat_minor": 2
}
