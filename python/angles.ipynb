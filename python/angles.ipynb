{
 "cells": [
  {
   "cell_type": "markdown",
   "metadata": {},
   "source": [
    "Process model for constant velocity model from euler angles.\n",
    "\n",
    "Using euler angle convention of zyx, (yaw, pitch, roll)"
   ]
  },
  {
   "cell_type": "code",
   "execution_count": 1,
   "metadata": {},
   "outputs": [],
   "source": [
    "import numpy as np\n",
    "import sympy\n",
    "import symforce.symbolic as sf"
   ]
  },
  {
   "cell_type": "markdown",
   "metadata": {},
   "source": []
  },
  {
   "cell_type": "code",
   "execution_count": 4,
   "metadata": {},
   "outputs": [],
   "source": [
    "def R_z(angle : float) -> np.array:\n",
    "    R_z = np.array([[np.cos(angle), -np.sin(angle), 0],\n",
    "                    [np.sin(angle),  np.cos(angle), 0],\n",
    "                    [0, 0, 1]])\n",
    "    return R_z\n",
    "\n",
    "def R_y(angle: float)-> np.array :\n",
    "    R_y = np.array([[np.cos(angle), 0, np.sin(angle)],\n",
    "                    [0, 1, 0],\n",
    "                    [-np.sin(angle), 0, np.cos(angle)]])\n",
    "    return R_y\n",
    "\n",
    "def R_x(angle: float) -> np.array:\n",
    "    R_x = np.array([[1, 0 , 0],\n",
    "                    [0, np.cos(angle), -np.sin(angle)],\n",
    "                    [0, np.sin(angle), np.cos(angle)]])\n",
    "    return R_x\n",
    "\n",
    "def euler_angle_to_rot(yaw: float, pitch: float, roll: float):\n",
    "    \n",
    "    return R_z(yaw) @ R_y(pitch) @ R_x(roll)\n",
    "\n",
    "# http://www.stengel.mycpanel.princeton.edu/Quaternions.pdf\n",
    "def euler_angle_rates_to_ang_vel(yaw_rate:float, pitch_rate:float, roll_rate:float, yaw:float, pitch:float, roll:float) -> np.array:\n",
    "    \"\"\"\n",
    "    converts euler angles rates to body axis rates. \n",
    "    \"\"\"\n",
    "    euler_angle_rate_vec = np.array([roll_rate, pitch_rate, yaw_rate]).reshape(3, -1)\n",
    "    psi = yaw\n",
    "    theta = pitch\n",
    "    phi = roll\n",
    "    rate_matrix = np.array([\n",
    "        [1, 0, -np.sin(theta)],\n",
    "        [0, np.cos(phi), np.cos(theta)*np.sin(phi)],\n",
    "        [0, -np.sin(phi), np.cos(phi)*np.cos(theta)]\n",
    "    ])\n",
    "    \n",
    "    ang_vel = rate_matrix @ euler_angle_rate_vec\n",
    "    \n",
    "    return ang_vel\n",
    "\n",
    "\n",
    "def ang_vel_to_euler_angle_rates(omega : np.array, yaw: float, pitch:float, roll:float):\n",
    "    \"\"\"\n",
    "    omega - body axis rates\n",
    "    \n",
    "    \"\"\"\n",
    "    psi = yaw\n",
    "    theta = pitch\n",
    "    phi = roll\n",
    "    omega = omega.reshape(3, -1)\n",
    "    rate_matrix = np.array([\n",
    "        [1, np.sin(phi)*np.tan(theta), np.cos(phi)*np.tan(theta)],\n",
    "        [0, np.cos(phi), -np.sin(phi)],\n",
    "        [0, np.sin(phi)*np.sec(theta), np.cos(phi)*np.sec(theta)]\n",
    "    ])\n",
    "    euler_angle_rates = rate_matrix @ omega\n",
    "    \n",
    "    return euler_angle_rates\n",
    "\n",
    "def orientation_error_propagation(yaw:float, pitch:float, roll:float, body_omega:np.array):\n",
    "    wx, wy, wz = body_omega\n",
    "    qx = roll\n",
    "    qy = pitch\n",
    "    qz = yaw\n",
    "    cx = np.cos(qx)\n",
    "    sx = np.sin(qx)\n",
    "    ty = np.tan(qy)\n",
    "    sy = np.sin(qy)\n",
    "    cy = np.cos(qy)\n",
    "    \n",
    "    \n",
    "    A = np.array([\n",
    "        [0, (wz*cx + wy*sx)/cy^2, ty*(wy*cx - wz*sx)],\n",
    "        [0, 0, wz*cx + wy*sx],\n",
    "        [0, (sy*(wz*cx + wy*sx))/cy^2, (wy * cx - wz*sx)/cy]\n",
    "    ])\n",
    "    \n",
    "    return A@body_omega.reshape(3, -1)"
   ]
  },
  {
   "cell_type": "markdown",
   "metadata": {},
   "source": [
    "Alternatives to euler angles  is rotation matrix (or direction cosines) and quaternions to avoid singularities.\n"
   ]
  },
  {
   "cell_type": "code",
   "execution_count": null,
   "metadata": {},
   "outputs": [],
   "source": [
    "def skew(vec: np.array):\n",
    "    M = np.array([\n",
    "        [0, -vec[2], vec[1]],\n",
    "        [vec[2], 0, -vec[0]],\n",
    "        [-vec[1], vec[0], 0],\n",
    "    ])\n",
    "    \n",
    "    return M\n",
    "    \n",
    "def vee(vec: np.array):\n",
    "    M = np.array([\n",
    "        [0, -vec[2], vec[1]],\n",
    "        [vec[2], 0, -vec[0]],\n",
    "        [-vec[1], vec[0], 0],\n",
    "    ])\n",
    "    return M\n",
    "\n",
    "\n",
    "def angular_vel_to_rotation_rates(R_curr: np.array, omega: np.array):\n",
    "    \"\"\"\n",
    "    angular error \n",
    "    \"\"\"\n",
    "    R_dot = R_curr@skew(omega)\n",
    "    \n",
    "    return R_dot    "
   ]
  }
 ],
 "metadata": {
  "kernelspec": {
   "display_name": "Python 3",
   "language": "python",
   "name": "python3"
  },
  "language_info": {
   "codemirror_mode": {
    "name": "ipython",
    "version": 3
   },
   "file_extension": ".py",
   "mimetype": "text/x-python",
   "name": "python",
   "nbconvert_exporter": "python",
   "pygments_lexer": "ipython3",
   "version": "3.8.10"
  }
 },
 "nbformat": 4,
 "nbformat_minor": 2
}
